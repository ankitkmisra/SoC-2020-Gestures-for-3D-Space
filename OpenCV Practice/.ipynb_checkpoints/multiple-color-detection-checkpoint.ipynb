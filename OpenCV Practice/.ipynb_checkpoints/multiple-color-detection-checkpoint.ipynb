{
 "cells": [
  {
   "cell_type": "code",
   "execution_count": 1,
   "metadata": {},
   "outputs": [],
   "source": [
    "import cv2\n",
    "import numpy as np"
   ]
  },
  {
   "cell_type": "code",
   "execution_count": 2,
   "metadata": {},
   "outputs": [],
   "source": [
    "cap = cv2.VideoCapture(0)\n",
    "while True:\n",
    "    _, frame = cap.read()\n",
    "    hsv = cv2.cvtColor(frame, cv2.COLOR_BGR2HSV)\n",
    "    \n",
    "    lb = np.array([100, 100, 100])\n",
    "    ub = np.array([140, 255, 255])\n",
    "    lg = np.array([40, 75, 75])\n",
    "    ug = np.array([80, 255, 255])\n",
    "    lr = np.array([0, 100, 0])\n",
    "    ur = np.array([10, 255, 255])\n",
    "    \n",
    "    maskb = cv2.inRange(hsv, lb, ub)\n",
    "    maskg = cv2.inRange(hsv, lg, ug)\n",
    "    maskr = cv2.inRange(hsv, lr, ur)\n",
    "    \n",
    "    resb = cv2.bitwise_and(frame, frame, mask=maskb)\n",
    "    resg = cv2.bitwise_and(frame, frame, mask=maskg)\n",
    "    resr = cv2.bitwise_and(frame, frame, mask=maskr)\n",
    "    res = cv2.bitwise_or(resb, resg)\n",
    "    res = cv2.bitwise_or(res, resr)\n",
    "    \n",
    "    cv2.imshow('frame', frame)\n",
    "    cv2.imshow('maskb', maskb)\n",
    "    cv2.imshow('maskg', maskg)\n",
    "    cv2.imshow('maskr', maskr)\n",
    "    cv2.imshow('resb', resb)\n",
    "    cv2.imshow('resg', resg)\n",
    "    cv2.imshow('resr', resr)\n",
    "    cv2.imshow('res', res)\n",
    "    \n",
    "    k = cv2.waitKey(1) & 0xFF\n",
    "    if k == 27:\n",
    "        break"
   ]
  },
  {
   "cell_type": "code",
   "execution_count": 3,
   "metadata": {},
   "outputs": [],
   "source": [
    "cv2.destroyAllWindows()"
   ]
  },
  {
   "cell_type": "code",
   "execution_count": null,
   "metadata": {},
   "outputs": [],
   "source": []
  }
 ],
 "metadata": {
  "kernelspec": {
   "display_name": "Python 3",
   "language": "python",
   "name": "python3"
  },
  "language_info": {
   "codemirror_mode": {
    "name": "ipython",
    "version": 3
   },
   "file_extension": ".py",
   "mimetype": "text/x-python",
   "name": "python",
   "nbconvert_exporter": "python",
   "pygments_lexer": "ipython3",
   "version": "3.6.9"
  }
 },
 "nbformat": 4,
 "nbformat_minor": 4
}
