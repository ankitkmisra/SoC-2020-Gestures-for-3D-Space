{
 "cells": [
  {
   "cell_type": "code",
   "execution_count": null,
   "metadata": {},
   "outputs": [],
   "source": [
    "import cv2\n",
    "import numpy as np\n",
    "from matplotlib import pyplot as plt\n",
    "\n",
    "img = cv2.imread('opencv-logo.png')\n",
    "\n",
    "#while True:\n",
    "#add Gaussian noise\n",
    "row, col, ch = img.shape\n",
    "var = 10\n",
    "sigma = var**0.5\n",
    "gauss = np.random.normal(0, sigma, (row, col, ch))\n",
    "gauss = gauss.reshape(row, col, ch)\n",
    "img = img + gauss\n",
    "\n",
    "#add SnP noise\n",
    "s_vs_p = 0.5\n",
    "amount = 0.004\n",
    "out = np.copy(img)\n",
    "num_salt = np.ceil(amount * img.size * s_vs_p)\n",
    "coords = [np.random.randint(0, i-1, int(num_salt)) for i in img.shape]\n",
    "out[tuple(coords)] = 1\n",
    "num_pepper = np.ceil(amount * img.size * (1 - s_vs_p))\n",
    "coords = [np.random.randint(0, i-1, int(num_pepper)) for i in img.shape]\n",
    "out[tuple(coords)] = 0\n",
    "\n",
    "cv2.imshow('Noisy', out)\n",
    "\n",
    "cv2.waitKey(0)\n",
    "\n",
    "cv2.destroyAllWindows()"
   ]
  }
 ],
 "metadata": {
  "kernelspec": {
   "display_name": "Python 3",
   "language": "python",
   "name": "python3"
  },
  "language_info": {
   "codemirror_mode": {
    "name": "ipython",
    "version": 3
   },
   "file_extension": ".py",
   "mimetype": "text/x-python",
   "name": "python",
   "nbconvert_exporter": "python",
   "pygments_lexer": "ipython3",
   "version": "3.6.9"
  }
 },
 "nbformat": 4,
 "nbformat_minor": 4
}
