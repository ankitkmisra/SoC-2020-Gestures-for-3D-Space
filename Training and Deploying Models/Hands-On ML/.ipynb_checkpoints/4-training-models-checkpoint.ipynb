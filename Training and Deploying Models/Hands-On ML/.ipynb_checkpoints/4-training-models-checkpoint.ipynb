{
 "cells": [
  {
   "cell_type": "code",
   "execution_count": 1,
   "metadata": {},
   "outputs": [],
   "source": [
    "import numpy as np\n",
    "import matplotlib as mpl\n",
    "import matplotlib.pyplot as plt\n",
    "import pandas as pd\n",
    "import seaborn as sns"
   ]
  },
  {
   "cell_type": "code",
   "execution_count": 2,
   "metadata": {},
   "outputs": [],
   "source": [
    "X = 2 * np.random.rand(100, 1)\n",
    "y = 4 + 3 * X + np.random.randn(100, 1)"
   ]
  },
  {
   "cell_type": "code",
   "execution_count": 3,
   "metadata": {},
   "outputs": [
    {
     "data": {
      "text/plain": [
       "[0, 2, 0, 15]"
      ]
     },
     "execution_count": 3,
     "metadata": {},
     "output_type": "execute_result"
    },
    {
     "data": {
      "image/png": "[encoded data removed]",
      "text/plain": [
       "<Figure size 432x288 with 1 Axes>"
      ]
     },
     "metadata": {
      "needs_background": "light"
     },
     "output_type": "display_data"
    }
   ],
   "source": [
    "plt.plot(X, y, 'b.')\n",
    "plt.axis([0, 2, 0, 15])"
   ]
  },
  {
   "cell_type": "code",
   "execution_count": 4,
   "metadata": {},
   "outputs": [],
   "source": [
    "X_b = np.c_[np.ones((100, 1)), X]\n",
    "theta_best = np.linalg.inv(X_b.T.dot(X_b)).dot(X_b.T).dot(y)"
   ]
  },
  {
   "cell_type": "code",
   "execution_count": 5,
   "metadata": {},
   "outputs": [
    {
     "data": {
      "text/plain": [
       "array([[4.25098276],\n",
       "       [2.77019952]])"
      ]
     },
     "execution_count": 5,
     "metadata": {},
     "output_type": "execute_result"
    }
   ],
   "source": [
    "theta_best # close enough to 4 and 3"
   ]
  },
  {
   "cell_type": "code",
   "execution_count": 6,
   "metadata": {},
   "outputs": [
    {
     "data": {
      "text/plain": [
       "array([[4.25098276],\n",
       "       [9.7913818 ]])"
      ]
     },
     "execution_count": 6,
     "metadata": {},
     "output_type": "execute_result"
    }
   ],
   "source": [
    "X_new = np.array([[0], [2]])\n",
    "X_new_b = np.c_[np.ones((2, 1)), X_new]\n",
    "y_predict = X_new_b.dot(theta_best)\n",
    "y_predict"
   ]
  },
  {
   "cell_type": "code",
   "execution_count": 7,
   "metadata": {},
   "outputs": [
    {
     "data": {
      "text/plain": [
       "[0, 2, 0, 15]"
      ]
     },
     "execution_count": 7,
     "metadata": {},
     "output_type": "execute_result"
    },
    {
     "data": {
      "image/png": "[encoded data removed]",
      "text/plain": [
       "<Figure size 432x288 with 1 Axes>"
      ]
     },
     "metadata": {
      "needs_background": "light"
     },
     "output_type": "display_data"
    }
   ],
   "source": [
    "plt.plot(X_new, y_predict, 'r-')\n",
    "plt.plot(X, y, 'b.')\n",
    "plt.axis([0, 2, 0, 15])"
   ]
  },
  {
   "cell_type": "code",
   "execution_count": 8,
   "metadata": {},
   "outputs": [
    {
     "data": {
      "text/plain": [
       "LinearRegression(copy_X=True, fit_intercept=True, n_jobs=None, normalize=False)"
      ]
     },
     "execution_count": 8,
     "metadata": {},
     "output_type": "execute_result"
    }
   ],
   "source": [
    "from sklearn.linear_model import LinearRegression\n",
    "lin_reg = LinearRegression()\n",
    "lin_reg.fit(X, y)"
   ]
  },
  {
   "cell_type": "code",
   "execution_count": 9,
   "metadata": {},
   "outputs": [
    {
     "data": {
      "text/plain": [
       "(array([4.25098276]), array([[2.77019952]]))"
      ]
     },
     "execution_count": 9,
     "metadata": {},
     "output_type": "execute_result"
    }
   ],
   "source": [
    "lin_reg.intercept_, lin_reg.coef_"
   ]
  },
  {
   "cell_type": "code",
   "execution_count": 10,
   "metadata": {},
   "outputs": [
    {
     "data": {
      "text/plain": [
       "array([[4.25098276],\n",
       "       [9.7913818 ]])"
      ]
     },
     "execution_count": 10,
     "metadata": {},
     "output_type": "execute_result"
    }
   ],
   "source": [
    "lin_reg.predict(X_new)"
   ]
  },
  {
   "cell_type": "code",
   "execution_count": 11,
   "metadata": {},
   "outputs": [
    {
     "data": {
      "text/plain": [
       "array([[4.25098276],\n",
       "       [2.77019952]])"
      ]
     },
     "execution_count": 11,
     "metadata": {},
     "output_type": "execute_result"
    }
   ],
   "source": [
    "theta_best_svd, residuals, rank, s = np.linalg.lstsq(X_b, y, rcond=1e-6)\n",
    "theta_best_svd"
   ]
  },
  {
   "cell_type": "code",
   "execution_count": 12,
   "metadata": {},
   "outputs": [
    {
     "data": {
      "text/plain": [
       "array([[4.25098276],\n",
       "       [2.77019952]])"
      ]
     },
     "execution_count": 12,
     "metadata": {},
     "output_type": "execute_result"
    }
   ],
   "source": [
    "np.linalg.pinv(X_b).dot(y)"
   ]
  },
  {
   "cell_type": "code",
   "execution_count": 13,
   "metadata": {},
   "outputs": [],
   "source": [
    "eta = 0.1\n",
    "n_iterations = 1000\n",
    "m = 100"
   ]
  },
  {
   "cell_type": "code",
   "execution_count": 14,
   "metadata": {},
   "outputs": [],
   "source": [
    "theta = np.random.randn(2, 1)\n",
    "\n",
    "for iteration in range(n_iterations):\n",
    "    gradient = 2/m * X_b.T.dot(X_b.dot(theta) - y)\n",
    "    theta = theta - eta * gradient"
   ]
  },
  {
   "cell_type": "code",
   "execution_count": 15,
   "metadata": {},
   "outputs": [
    {
     "data": {
      "text/plain": [
       "array([[4.25098276],\n",
       "       [2.77019952]])"
      ]
     },
     "execution_count": 15,
     "metadata": {},
     "output_type": "execute_result"
    }
   ],
   "source": [
    "theta"
   ]
  },
  {
   "cell_type": "code",
   "execution_count": 16,
   "metadata": {},
   "outputs": [],
   "source": [
    "from sklearn.base import BaseEstimator\n",
    "\n",
    "class myBatchGradDescent(BaseEstimator):\n",
    "    def __init__(self, eta=0.1, n_iterations=1000):\n",
    "        self.eta = eta\n",
    "        self.n_iterations = n_iterations\n",
    "    def fit(self, X, y):\n",
    "        theta = np.random.randn(2, 1)\n",
    "        X_b = np.c_[np.ones((len(X), 1)), X]\n",
    "        for iteration in range(self.n_iterations):\n",
    "            gradient = 2/len(X) * X_b.T.dot(X_b.dot(theta) - y)\n",
    "            theta = theta - self.eta * gradient\n",
    "        self.theta_ = theta\n",
    "        return self\n",
    "    def predict(self, X):\n",
    "        X_b = np.c_[np.ones((len(X), 1)), X]\n",
    "        return X_b.dot(self.theta_)"
   ]
  },
  {
   "cell_type": "code",
   "execution_count": 17,
   "metadata": {},
   "outputs": [
    {
     "name": "stderr",
     "output_type": "stream",
     "text": [
      "/home/ankit/miniconda3/lib/python3.7/site-packages/sklearn/model_selection/_search.py:788: RuntimeWarning: overflow encountered in square\n",
      "  array_means[:, np.newaxis]) ** 2,\n"
     ]
    },
    {
     "data": {
      "text/plain": [
       "GridSearchCV(cv=5, error_score=nan,\n",
       "             estimator=myBatchGradDescent(eta=0.1, n_iterations=1000),\n",
       "             iid='deprecated', n_jobs=None,\n",
       "             param_grid={'eta': [0.02, 0.1, 0.5],\n",
       "                         'n_iterations': [100, 500, 1000]},\n",
       "             pre_dispatch='2*n_jobs', refit=True, return_train_score=True,\n",
       "             scoring='neg_mean_squared_error', verbose=0)"
      ]
     },
     "execution_count": 17,
     "metadata": {},
     "output_type": "execute_result"
    }
   ],
   "source": [
    "from sklearn.model_selection import GridSearchCV\n",
    "\n",
    "param_grid = {'n_iterations': [100, 500, 1000], 'eta': [0.02, 0.1, 0.5]}\n",
    "\n",
    "myBGD = myBatchGradDescent()\n",
    "grid_search = GridSearchCV(myBatchGradDescent(), param_grid, cv=5, scoring='neg_mean_squared_error', return_train_score=True)\n",
    "grid_search.fit(X, y)"
   ]
  },
  {
   "cell_type": "code",
   "execution_count": 18,
   "metadata": {},
   "outputs": [
    {
     "data": {
      "text/plain": [
       "{'mean_fit_time': array([0.00251303, 0.0079174 , 0.01242914, 0.00129852, 0.005969  ,\n",
       "        0.01193123, 0.00130229, 0.00594044, 0.01172194]),\n",
       " 'std_fit_time': array([2.02806332e-03, 3.81870568e-03, 1.12442409e-03, 1.30156456e-05,\n",
       "        3.43893160e-05, 1.08125115e-04, 1.71988229e-05, 4.45275022e-05,\n",
       "        8.07967605e-05]),\n",
       " 'mean_score_time': array([0.00111742, 0.00043988, 0.00040655, 0.00037174, 0.00042405,\n",
       "        0.00049639, 0.00037532, 0.00038557, 0.00038733]),\n",
       " 'std_score_time': array([1.37661203e-03, 4.83273931e-05, 4.57295039e-05, 1.60109393e-05,\n",
       "        2.95514419e-05, 1.37785973e-04, 1.59732619e-05, 1.86926248e-05,\n",
       "        3.45151060e-05]),\n",
       " 'param_eta': masked_array(data=[0.02, 0.02, 0.02, 0.1, 0.1, 0.1, 0.5, 0.5, 0.5],\n",
       "              mask=[False, False, False, False, False, False, False, False,\n",
       "                    False],\n",
       "        fill_value='?',\n",
       "             dtype=object),\n",
       " 'param_n_iterations': masked_array(data=[100, 500, 1000, 100, 500, 1000, 100, 500, 1000],\n",
       "              mask=[False, False, False, False, False, False, False, False,\n",
       "                    False],\n",
       "        fill_value='?',\n",
       "             dtype=object),\n",
       " 'params': [{'eta': 0.02, 'n_iterations': 100},\n",
       "  {'eta': 0.02, 'n_iterations': 500},\n",
       "  {'eta': 0.02, 'n_iterations': 1000},\n",
       "  {'eta': 0.1, 'n_iterations': 100},\n",
       "  {'eta': 0.1, 'n_iterations': 500},\n",
       "  {'eta': 0.1, 'n_iterations': 1000},\n",
       "  {'eta': 0.5, 'n_iterations': 100},\n",
       "  {'eta': 0.5, 'n_iterations': 500},\n",
       "  {'eta': 0.5, 'n_iterations': 1000}],\n",
       " 'split0_test_score': array([-1.57486632e+000, -1.51688238e+000, -1.51585868e+000,\n",
       "        -1.51236669e+000, -1.51596385e+000, -1.51596385e+000,\n",
       "        -1.13606858e+025, -4.51166513e+117, -1.25096842e+234]),\n",
       " 'split1_test_score': array([-1.34793740e+000, -1.09260276e+000, -1.08950749e+000,\n",
       "        -1.09822478e+000, -1.08925279e+000, -1.08925279e+000,\n",
       "        -1.85856991e+019, -2.51589524e+089, -3.17738316e+176]),\n",
       " 'split2_test_score': array([-1.30081885e+000, -1.15295284e+000, -1.15452046e+000,\n",
       "        -1.15951615e+000, -1.15463380e+000, -1.15463380e+000,\n",
       "        -3.70378169e+024, -1.65300665e+115, -6.07099489e+228]),\n",
       " 'split3_test_score': array([-8.79496487e-001, -7.63023167e-001, -7.62666094e-001,\n",
       "        -7.68564864e-001, -7.62599285e-001, -7.62599284e-001,\n",
       "        -2.64818148e+021, -6.97921879e+100, -2.86791742e+199]),\n",
       " 'split4_test_score': array([-1.96053012e+000, -1.96857451e+000, -1.97681387e+000,\n",
       "        -1.97537893e+000, -1.97696517e+000, -1.97696517e+000,\n",
       "        -1.05671416e+018, -3.49938010e+083, -3.61656774e+165]),\n",
       " 'mean_test_score': array([-1.41272983e+000, -1.29880713e+000, -1.29987332e+000,\n",
       "        -1.30281028e+000, -1.29988298e+000, -1.29988298e+000,\n",
       "        -3.01342706e+024, -9.05639039e+116, -2.50194898e+233]),\n",
       " 'std_test_score': array([3.54240969e-001, 4.11583120e-001, 4.14456517e-001, 4.10869585e-001,\n",
       "        4.14552143e-001, 4.14552144e-001, 4.41315022e+024, 1.80302441e+117,\n",
       "                    inf]),\n",
       " 'rank_test_score': array([6, 1, 2, 5, 3, 4, 7, 8, 9], dtype=int32),\n",
       " 'split0_train_score': array([-1.32498948e+000, -1.19407535e+000, -1.19406553e+000,\n",
       "        -1.19424187e+000, -1.19406539e+000, -1.19406539e+000,\n",
       "        -1.26808725e+025, -5.03595042e+117, -1.39633921e+234]),\n",
       " 'split1_train_score': array([-1.39782684e+000, -1.29004326e+000, -1.28998604e+000,\n",
       "        -1.29037506e+000, -1.28998570e+000, -1.28998570e+000,\n",
       "        -1.72228931e+019, -2.33141592e+089, -2.94439990e+176]),\n",
       " 'split2_train_score': array([-1.48753089e+000, -1.27482766e+000, -1.27476366e+000,\n",
       "        -1.27516901e+000, -1.27476339e+000, -1.27476339e+000,\n",
       "        -4.06485456e+024, -1.81415433e+115, -6.66284174e+228]),\n",
       " 'split3_train_score': array([-1.43990532e+000, -1.37476749e+000, -1.37476584e+000,\n",
       "        -1.37508417e+000, -1.37476580e+000, -1.37476580e+000,\n",
       "        -2.63217494e+021, -6.93703393e+100, -2.85058272e+199]),\n",
       " 'split4_train_score': array([-1.14452319e+000, -1.07060353e+000, -1.06996790e+000,\n",
       "        -1.06998764e+000, -1.06996773e+000, -1.06996773e+000,\n",
       "        -9.49733315e+017, -3.14510584e+083, -3.25042951e+165]),\n",
       " 'mean_train_score': array([-1.35895515e+000, -1.24086346e+000, -1.24070980e+000,\n",
       "        -1.24097155e+000, -1.24070960e+000, -1.24070960e+000,\n",
       "        -3.34967549e+024, -1.01081839e+117, -2.79269175e+233]),\n",
       " 'std_train_score': array([1.19775115e-001, 1.02645097e-001, 1.02846798e-001, 1.02971380e-001,\n",
       "        1.02846807e-001, 1.02846807e-001, 4.92394046e+024, 2.01257828e+117,\n",
       "                    inf])}"
      ]
     },
     "execution_count": 18,
     "metadata": {},
     "output_type": "execute_result"
    }
   ],
   "source": [
    "grid_search.cv_results_"
   ]
  },
  {
   "cell_type": "code",
   "execution_count": 19,
   "metadata": {},
   "outputs": [
    {
     "data": {
      "text/plain": [
       "{'eta': 0.02, 'n_iterations': 500}"
      ]
     },
     "execution_count": 19,
     "metadata": {},
     "output_type": "execute_result"
    }
   ],
   "source": [
    "grid_search.best_params_"
   ]
  },
  {
   "cell_type": "code",
   "execution_count": 20,
   "metadata": {},
   "outputs": [],
   "source": [
    "n_epochs = 50\n",
    "t0, t1 = 5, 50\n",
    "\n",
    "def learning_schedule(t):\n",
    "    return t0 / (t + t1)\n",
    "\n",
    "theta = np.random.randn(2, 1)\n",
    "\n",
    "for epoch in range(n_epochs):\n",
    "    for i in range(m):\n",
    "        random_index = np.random.randint(m)\n",
    "        xi = X_b[random_index : random_index+1]\n",
    "        yi = y[random_index : random_index+1]\n",
    "        gradient = 2 * xi.T.dot(xi.dot(theta) - yi)\n",
    "        eta = learning_schedule(epoch * m + i)\n",
    "        theta = theta - eta * gradient"
   ]
  },
  {
   "cell_type": "code",
   "execution_count": 21,
   "metadata": {},
   "outputs": [
    {
     "data": {
      "text/plain": [
       "array([[4.3279243 ],\n",
       "       [2.76353034]])"
      ]
     },
     "execution_count": 21,
     "metadata": {},
     "output_type": "execute_result"
    }
   ],
   "source": [
    "theta"
   ]
  },
  {
   "cell_type": "code",
   "execution_count": 22,
   "metadata": {},
   "outputs": [
    {
     "data": {
      "text/plain": [
       "SGDRegressor(alpha=0.0001, average=False, early_stopping=False, epsilon=0.1,\n",
       "             eta0=0.1, fit_intercept=True, l1_ratio=0.15,\n",
       "             learning_rate='invscaling', loss='squared_loss', max_iter=1000,\n",
       "             n_iter_no_change=5, penalty=None, power_t=0.25, random_state=None,\n",
       "             shuffle=True, tol=0.001, validation_fraction=0.1, verbose=0,\n",
       "             warm_start=False)"
      ]
     },
     "execution_count": 22,
     "metadata": {},
     "output_type": "execute_result"
    }
   ],
   "source": [
    "from sklearn.linear_model import SGDRegressor\n",
    "sgd_reg = SGDRegressor(max_iter=1000, tol=1e-3, penalty=None, eta0=0.1)\n",
    "sgd_reg.fit(X, y.ravel())"
   ]
  },
  {
   "cell_type": "code",
   "execution_count": 24,
   "metadata": {},
   "outputs": [
    {
     "data": {
      "text/plain": [
       "(array([4.20779036]), array([2.75368076]))"
      ]
     },
     "execution_count": 24,
     "metadata": {},
     "output_type": "execute_result"
    }
   ],
   "source": [
    "sgd_reg.intercept_, sgd_reg.coef_"
   ]
  },
  {
   "cell_type": "code",
   "execution_count": 25,
   "metadata": {},
   "outputs": [],
   "source": [
    "m = 100\n",
    "X = 6 * np.random.rand(m, 1) - 3\n",
    "y = 0.5 * X**2 + X + 2 + np.random.randn(m, 1)"
   ]
  },
  {
   "cell_type": "code",
   "execution_count": 26,
   "metadata": {},
   "outputs": [
    {
     "data": {
      "text/plain": [
       "array([1.31342146])"
      ]
     },
     "execution_count": 26,
     "metadata": {},
     "output_type": "execute_result"
    }
   ],
   "source": [
    "from sklearn.preprocessing import PolynomialFeatures\n",
    "poly_features = PolynomialFeatures(degree=2, include_bias=False)\n",
    "X_poly = poly_features.fit_transform(X)\n",
    "X[0]"
   ]
  },
  {
   "cell_type": "code",
   "execution_count": 27,
   "metadata": {},
   "outputs": [
    {
     "data": {
      "text/plain": [
       "array([1.31342146, 1.72507594])"
      ]
     },
     "execution_count": 27,
     "metadata": {},
     "output_type": "execute_result"
    }
   ],
   "source": [
    "X_poly[0]"
   ]
  },
  {
   "cell_type": "code",
   "execution_count": 28,
   "metadata": {},
   "outputs": [
    {
     "data": {
      "text/plain": [
       "(array([1.83919201]), array([[0.89134567, 0.51670861]]))"
      ]
     },
     "execution_count": 28,
     "metadata": {},
     "output_type": "execute_result"
    }
   ],
   "source": [
    "lin_reg = LinearRegression()\n",
    "lin_reg.fit(X_poly, y)\n",
    "lin_reg.intercept_, lin_reg.coef_"
   ]
  },
  {
   "cell_type": "code",
   "execution_count": 29,
   "metadata": {},
   "outputs": [],
   "source": [
    "from sklearn.metrics import mean_squared_error\n",
    "from sklearn.model_selection import train_test_split\n",
    "\n",
    "def plot_learning_curves(model, X, y):\n",
    "    X_train, X_val, y_train, y_val = train_test_split(X, y, test_size=0.2)\n",
    "    train_errors, val_errors = [], []\n",
    "    for m in range(1, len(X_train)):\n",
    "        model.fit(X_train[:m], y_train[:m])\n",
    "        y_train_predict = model.predict(X_train[:m])\n",
    "        y_val_predict = model.predict(X_val)\n",
    "        train_errors.append(mean_squared_error(y_train[:m], y_train_predict))\n",
    "        val_errors.append(mean_squared_error(y_val, y_val_predict))\n",
    "    plt.plot(np.sqrt(train_errors), 'r-+', linewidth=2, label='train')\n",
    "    plt.plot(np.sqrt(val_errors), 'b-', linewidth=3, label='val')"
   ]
  },
  {
   "cell_type": "code",
   "execution_count": 45,
   "metadata": {},
   "outputs": [
    {
     "data": {
      "text/plain": [
       "<matplotlib.legend.Legend at 0x7f24da9e3bd0>"
      ]
     },
     "execution_count": 45,
     "metadata": {},
     "output_type": "execute_result"
    },
    {
     "data": {
      "image/png": "[encoded data removed]",
      "text/plain": [
       "<Figure size 432x288 with 1 Axes>"
      ]
     },
     "metadata": {
      "needs_background": "light"
     },
     "output_type": "display_data"
    }
   ],
   "source": [
    "lin_reg = LinearRegression()\n",
    "plot_learning_curves(lin_reg, X, y)\n",
    "plt.xlabel('Training Set Size')\n",
    "plt.ylabel('RMSE')\n",
    "plt.legend()"
   ]
  },
  {
   "cell_type": "code",
   "execution_count": null,
   "metadata": {},
   "outputs": [],
   "source": []
  }
 ],
 "metadata": {
  "kernelspec": {
   "display_name": "Python 3",
   "language": "python",
   "name": "python3"
  },
  "language_info": {
   "codemirror_mode": {
    "name": "ipython",
    "version": 3
   },
   "file_extension": ".py",
   "mimetype": "text/x-python",
   "name": "python",
   "nbconvert_exporter": "python",
   "pygments_lexer": "ipython3",
   "version": "3.7.6"
  }
 },
 "nbformat": 4,
 "nbformat_minor": 4
}
