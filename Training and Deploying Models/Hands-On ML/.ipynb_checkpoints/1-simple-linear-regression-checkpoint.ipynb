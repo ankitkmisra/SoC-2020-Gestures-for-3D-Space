{
 "cells": [
  {
   "cell_type": "code",
   "execution_count": 1,
   "metadata": {},
   "outputs": [],
   "source": [
    "import numpy as np\n",
    "import pandas as pd\n",
    "import sklearn.linear_model\n",
    "import sklearn.neighbors\n",
    "from matplotlib import pyplot as plt\n",
    "import seaborn as sns"
   ]
  },
  {
   "cell_type": "markdown",
   "metadata": {},
   "source": [
    "We write the function `prepare_country_stats` to extract our desired data from the CSV file. <br>\n",
    "This desired data should contain just the *GDP per capita* and *Life satisfaction* data values."
   ]
  },
  {
   "cell_type": "code",
   "execution_count": 2,
   "metadata": {},
   "outputs": [],
   "source": [
    "def prepare_country_stats(oecd_bli, gdp_per_capita):\n",
    "    oecd_bli = oecd_bli[oecd_bli['INEQUALITY']=='TOT']\n",
    "    \n",
    "    # Extract a simplified DataFrame which has country names in its index, different indicators as its columns,\n",
    "    # and contains life satisfaction values as its data.\n",
    "    oecd_bli = oecd_bli.pivot(index='Country', columns='Indicator', values='Value')\n",
    "    \n",
    "    # Rename the '2015' column as 'GDP per capita'\n",
    "    gdp_per_capita.rename(columns={'2015':'GDP per capita'}, inplace=True)\n",
    "    \n",
    "    # Set country names as index\n",
    "    gdp_per_capita.set_index('Country', inplace=True)\n",
    "    \n",
    "    # Merge the two DataFrames to obtain a single DataFrame with country names as index and left columns as\n",
    "    # indicators and right columns as those from gdp_per_capita\n",
    "    full_country_stats = pd.merge(left=oecd_bli, right=gdp_per_capita, left_index=True, right_index=True)\n",
    "    \n",
    "    # Sort the DataFrame records in ascending value of GDP per capita\n",
    "    full_country_stats.sort_values(by='GDP per capita', inplace=True)\n",
    "    \n",
    "    # Mark indices given in the list here for removal, and obtain indices to be kept by set subtraction.\n",
    "    remove_indices = [0, 1, 6, 8, 33, 34, 35]\n",
    "    keep_indices = list(set(range(36)) - set(remove_indices))\n",
    "    \n",
    "    return full_country_stats[['GDP per capita', 'Life satisfaction']].iloc[keep_indices]"
   ]
  },
  {
   "cell_type": "markdown",
   "metadata": {},
   "source": [
    "The `pd.read_csv` function is used to read a CSV file into a DataFrame variable. <br>\n",
    "Several optional arguments can be provided, as can be seen below."
   ]
  },
  {
   "cell_type": "code",
   "execution_count": 3,
   "metadata": {},
   "outputs": [],
   "source": [
    "oecd_bli = pd.read_csv('datasets/life-sat/oecd_bli_2015.csv', thousands=',')\n",
    "gdp_per_capita = pd.read_csv('datasets/life-sat/gdp_per_capita.csv', thousands=',', delimiter='\\t', encoding='latin1', na_values='n/a')"
   ]
  },
  {
   "cell_type": "markdown",
   "metadata": {},
   "source": [
    "We now process our data using the `prepare_country_stats` function to extract only the two required columns. <br>\n",
    "Then, we load **column** arrays for both the columns into variables `X` and `y`."
   ]
  },
  {
   "cell_type": "code",
   "execution_count": 4,
   "metadata": {},
   "outputs": [],
   "source": [
    "country_stats = prepare_country_stats(oecd_bli, gdp_per_capita)\n",
    "X = np.c_[country_stats['GDP per capita']]\n",
    "y = np.c_[country_stats['Life satisfaction']]"
   ]
  },
  {
   "cell_type": "markdown",
   "metadata": {},
   "source": [
    "Make a regression plot of y vs X to observe the trend visually."
   ]
  },
  {
   "cell_type": "code",
   "execution_count": 5,
   "metadata": {},
   "outputs": [
    {
     "data": {
      "text/plain": [
       "<matplotlib.axes._subplots.AxesSubplot at 0x7f4dd5b8d1d0>"
      ]
     },
     "execution_count": 5,
     "metadata": {},
     "output_type": "execute_result"
    },
    {
     "data": {
      "image/png": "[encoded data removed]",
      "text/plain": [
       "<Figure size 432x288 with 1 Axes>"
      ]
     },
     "metadata": {
      "needs_background": "light"
     },
     "output_type": "display_data"
    }
   ],
   "source": [
    "sns.regplot(country_stats['GDP per capita'], country_stats['Life satisfaction'])\n",
    "\n",
    "# __OR__\n",
    "# country_stats.plot(kind='scatter', x='GDP per capita', y='Life satisfaction')\n",
    "# plt.show()"
   ]
  },
  {
   "cell_type": "markdown",
   "metadata": {},
   "source": [
    "Now, we train two models on our data.<br>\n",
    "`model1` is trained using linear regression.<br>\n",
    "`model2` is trained using the K nearest neighbors regression."
   ]
  },
  {
   "cell_type": "code",
   "execution_count": 6,
   "metadata": {},
   "outputs": [],
   "source": [
    "model1 = sklearn.linear_model.LinearRegression()\n",
    "model2 = sklearn.neighbors.KNeighborsRegressor(n_neighbors=3)"
   ]
  },
  {
   "cell_type": "code",
   "execution_count": 7,
   "metadata": {},
   "outputs": [
    {
     "data": {
      "text/plain": [
       "KNeighborsRegressor(algorithm='auto', leaf_size=30, metric='minkowski',\n",
       "                    metric_params=None, n_jobs=None, n_neighbors=3, p=2,\n",
       "                    weights='uniform')"
      ]
     },
     "execution_count": 7,
     "metadata": {},
     "output_type": "execute_result"
    }
   ],
   "source": [
    "model1.fit(X, y)\n",
    "model2.fit(X, y)"
   ]
  },
  {
   "cell_type": "markdown",
   "metadata": {},
   "source": [
    "We now use our ML model to predict the life satisfaction of people living in Cyprus.<br>\n",
    "The GDP per capita value for Cyprus is 22587, and we do it as shown below."
   ]
  },
  {
   "cell_type": "code",
   "execution_count": 8,
   "metadata": {},
   "outputs": [
    {
     "name": "stdout",
     "output_type": "stream",
     "text": [
      "[[5.96242338]]\n",
      "[[5.76666667]]\n"
     ]
    }
   ],
   "source": [
    "X_new = [[22587]]\n",
    "print(model1.predict(X_new))\n",
    "print(model2.predict(X_new))"
   ]
  },
  {
   "cell_type": "markdown",
   "metadata": {},
   "source": [
    "Thus, we predict Cyprus's life satisfaction to be close to 5.96 according to the linear regression model, and 5.77 according to the K nearest neighbors regression model (K being 3 in this case)"
   ]
  }
 ],
 "metadata": {
  "kernelspec": {
   "display_name": "Python 3",
   "language": "python",
   "name": "python3"
  },
  "language_info": {
   "codemirror_mode": {
    "name": "ipython",
    "version": 3
   },
   "file_extension": ".py",
   "mimetype": "text/x-python",
   "name": "python",
   "nbconvert_exporter": "python",
   "pygments_lexer": "ipython3",
   "version": "3.7.6"
  }
 },
 "nbformat": 4,
 "nbformat_minor": 2
}
