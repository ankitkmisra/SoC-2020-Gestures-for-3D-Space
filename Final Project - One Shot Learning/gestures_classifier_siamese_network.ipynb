{
 "cells": [
  {
   "cell_type": "markdown",
   "metadata": {
    "colab_type": "text",
    "id": "I3OsFeEmP_yL"
   },
   "source": [
    "# Hand Gestures Classification using One-Shot Learning with Siamese Networks\n",
    "\n",
    "This notebook creates and trains a Siamese network to classify hand gestures into 15 classes. I have used the convolutional base from the VGG16 network (pre-trained on the ImageNet dataset), built a Siamese network on top of it, and trained it on an American Sign Language (ASL) dataset. This model achieved 89.87% accuracy when tested on a 15-classes hand gestures dataset, created by myself.\n",
    "\n",
    "Let us start by importing the required modules."
   ]
  },
  {
   "cell_type": "code",
   "execution_count": 1,
   "metadata": {
    "colab": {
     "base_uri": "https://localhost:8080/",
     "height": 34
    },
    "colab_type": "code",
    "executionInfo": {
     "elapsed": 3258,
     "status": "ok",
     "timestamp": 1593410094780,
     "user": {
      "displayName": "Ankit Kumar Misra",
      "photoUrl": "https://lh3.googleusercontent.com/a-/AOh14GhQDKASUj870pEenRQ8g48kmlHs_dA2HzVoOCaVLw=s64",
      "userId": "01046035975186418003"
     },
     "user_tz": -330
    },
    "id": "AKCyIzXbHOGO",
    "outputId": "1f459382-bb2a-44be-babd-91f419d8fd3c"
   },
   "outputs": [
    {
     "name": "stderr",
     "output_type": "stream",
     "text": [
      "Using TensorFlow backend.\n"
     ]
    }
   ],
   "source": [
    "import numpy as np\n",
    "import pandas as pd\n",
    "import cv2\n",
    "%matplotlib inline\n",
    "import matplotlib.pyplot as plt\n",
    "import os, shutil\n",
    "import random\n",
    "from itertools import permutations\n",
    "from keras.models import Sequential\n",
    "from keras.layers import Conv2D, ZeroPadding2D, Activation, Input, concatenate\n",
    "from keras.models import Model\n",
    "from keras.layers.normalization import BatchNormalization\n",
    "from keras.layers.pooling import MaxPooling2D, AveragePooling2D\n",
    "from keras.layers.core import Lambda, Flatten, Dense\n",
    "from keras.engine.topology import Layer\n",
    "from keras import backend as K\n",
    "from keras.callbacks import ModelCheckpoint\n",
    "from keras.optimizers import Adam"
   ]
  },
  {
   "cell_type": "code",
   "execution_count": 2,
   "metadata": {
    "colab": {},
    "colab_type": "code",
    "executionInfo": {
     "elapsed": 2798,
     "status": "ok",
     "timestamp": 1593410098994,
     "user": {
      "displayName": "Ankit Kumar Misra",
      "photoUrl": "https://lh3.googleusercontent.com/a-/AOh14GhQDKASUj870pEenRQ8g48kmlHs_dA2HzVoOCaVLw=s64",
      "userId": "01046035975186418003"
     },
     "user_tz": -330
    },
    "id": "ze9zORMe6Hgv"
   },
   "outputs": [],
   "source": [
    "import keras.backend.tensorflow_backend as tfback\n",
    "import tensorflow as tf\n",
    "\n",
    "def _get_available_gpus():\n",
    "    \"\"\"\n",
    "    Get a list of available GPU devices (formatted as strings).\n",
    "\n",
    "    Returns: a list of available GPU devices.\n",
    "    \"\"\"\n",
    "    if tfback._LOCAL_DEVICES is None:\n",
    "        devices = tf.config.list_logical_devices()\n",
    "        tfback._LOCAL_DEVICES = [x.name for x in devices]\n",
    "    return [x for x in tfback._LOCAL_DEVICES if 'device:gpu' in x.lower()]\n",
    "\n",
    "tfback._get_available_gpus = _get_available_gpus"
   ]
  },
  {
   "cell_type": "markdown",
   "metadata": {
    "colab_type": "text",
    "id": "uZYs4ptFRxVs"
   },
   "source": [
    "I now unzip the American Sign Language dataset, from a `.zip` file downloaded and saved on my Google Drive."
   ]
  },
  {
   "cell_type": "code",
   "execution_count": null,
   "metadata": {
    "colab": {},
    "colab_type": "code",
    "id": "sOjwDi8eG9Tt"
   },
   "outputs": [],
   "source": [
    "from google.colab import drive\n",
    "drive.mount('gdrive')"
   ]
  },
  {
   "cell_type": "code",
   "execution_count": null,
   "metadata": {
    "colab": {},
    "colab_type": "code",
    "id": "Ltqb0jHBPasx"
   },
   "outputs": [],
   "source": [
    "!unzip 'gdrive/My Drive/asl_hand_gestures.zip' -d '.'"
   ]
  },
  {
   "cell_type": "markdown",
   "metadata": {
    "colab_type": "text",
    "id": "28kkquJTSGJH"
   },
   "source": [
    "The following code organizes the images (original images, not the grayscale or resized or rotated images, which are also included in this dataset directory) into the respective classes. We have 24 classes, each representing a letter of the English alphabet ('J' and 'Z' are left out as they are represented by dynamic gestures), and each class has 40 images, 5 by each of 8 people."
   ]
  },
  {
   "cell_type": "code",
   "execution_count": 5,
   "metadata": {
    "colab": {},
    "colab_type": "code",
    "executionInfo": {
     "elapsed": 1194,
     "status": "ok",
     "timestamp": 1593410142374,
     "user": {
      "displayName": "Ankit Kumar Misra",
      "photoUrl": "https://lh3.googleusercontent.com/a-/AOh14GhQDKASUj870pEenRQ8g48kmlHs_dA2HzVoOCaVLw=s64",
      "userId": "01046035975186418003"
     },
     "user_tz": -330
    },
    "id": "fBb6fDtPHGov"
   },
   "outputs": [],
   "source": [
    "import os\n",
    "import shutil\n",
    "\n",
    "base_dir = 'Dataset ASL Hand Gestures/original_frames'\n",
    "\n",
    "train_dir = os.path.join(base_dir, 'train')\n",
    "os.mkdir(train_dir)\n",
    "\n",
    "classes = []\n",
    "\n",
    "pics_list = [pic for pic in os.listdir(base_dir) if os.path.isfile(os.path.join(base_dir, pic))]\n",
    "\n",
    "for pic in pics_list:\n",
    "    if pic[0] not in classes:\n",
    "        os.mkdir(os.path.join(train_dir, pic[0]))\n",
    "        classes.append(pic[0])\n",
    "\n",
    "for pic in pics_list:\n",
    "    img_src = os.path.join(base_dir, pic)\n",
    "    img_dst = os.path.join(train_dir, f'{pic[0]}/{pic}')\n",
    "    shutil.move(img_src, img_dst)\n",
    "\n",
    "test_dir = os.path.join(base_dir, 'test')\n",
    "os.mkdir(test_dir)\n",
    "\n",
    "for gesture in os.listdir(train_dir):\n",
    "    gesture_dir = os.path.join(test_dir, gesture)\n",
    "    os.mkdir(gesture_dir)\n",
    "    L1 = os.listdir(os.path.join(train_dir, gesture))\n",
    "    L2 = np.random.choice(40, 10, replace=False)\n",
    "    for i in L2:\n",
    "        img_src = os.path.join(os.path.join(train_dir, gesture), L1[i])\n",
    "        img_dst = os.path.join(gesture_dir, L1[i])\n",
    "        shutil.move(img_src, img_dst)"
   ]
  },
  {
   "cell_type": "code",
   "execution_count": 6,
   "metadata": {
    "colab": {},
    "colab_type": "code",
    "executionInfo": {
     "elapsed": 1351,
     "status": "ok",
     "timestamp": 1593410144645,
     "user": {
      "displayName": "Ankit Kumar Misra",
      "photoUrl": "https://lh3.googleusercontent.com/a-/AOh14GhQDKASUj870pEenRQ8g48kmlHs_dA2HzVoOCaVLw=s64",
      "userId": "01046035975186418003"
     },
     "user_tz": -330
    },
    "id": "QSPNTG4C45Ev"
   },
   "outputs": [],
   "source": [
    "base_dir = 'Dataset ASL Hand Gestures/original_frames'\n",
    "\n",
    "train_dir = os.path.join(base_dir, 'train')\n",
    "test_dir = os.path.join(base_dir, 'test')"
   ]
  },
  {
   "cell_type": "markdown",
   "metadata": {
    "colab_type": "text",
    "id": "NOmfte_dS-nu"
   },
   "source": [
    "The following function loads images and corresponding labels into NumPy arrays."
   ]
  },
  {
   "cell_type": "code",
   "execution_count": 7,
   "metadata": {
    "colab": {},
    "colab_type": "code",
    "executionInfo": {
     "elapsed": 2989,
     "status": "ok",
     "timestamp": 1593410158209,
     "user": {
      "displayName": "Ankit Kumar Misra",
      "photoUrl": "https://lh3.googleusercontent.com/a-/AOh14GhQDKASUj870pEenRQ8g48kmlHs_dA2HzVoOCaVLw=s64",
      "userId": "01046035975186418003"
     },
     "user_tz": -330
    },
    "id": "pvFwHOnqOrde"
   },
   "outputs": [],
   "source": [
    "def load_imgs(path):\n",
    "    \"\"\"\n",
    "    Loads images and labels into NumPy arrays, and returns the arrays.\n",
    "\n",
    "    Parameters:\n",
    "    path - Path to the directory containing images (organized into subdirectories for each gesture).\n",
    "    \"\"\"\n",
    "\n",
    "    X = []\n",
    "    y = []\n",
    "\n",
    "    imgs_per_class = min([len(os.listdir(os.path.join(path, gesture))) for gesture in os.listdir(path)])\n",
    "\n",
    "    for gesture in os.listdir(path):\n",
    "        gesture_images = []\n",
    "        for i, filename in enumerate(os.listdir(os.path.join(path, gesture))):\n",
    "            if i == imgs_per_class:\n",
    "                break\n",
    "            image_path = os.path.join(os.path.join(path, gesture), filename)\n",
    "            image = cv2.imread(image_path)\n",
    "            image = cv2.cvtColor(image, cv2.COLOR_BGR2RGB)\n",
    "            image = cv2.resize(image, dsize=(96, 96))\n",
    "            image = image/255.\n",
    "            gesture_images.append(image)\n",
    "            y.append(gesture)\n",
    "        try:\n",
    "            X.append(np.stack(gesture_images))\n",
    "        except ValueError as e:\n",
    "            print(e)\n",
    "\n",
    "    y = np.vstack(y)\n",
    "    X = np.stack(X)\n",
    "    return X, y\n",
    "\n",
    "data, y = load_imgs(train_dir)"
   ]
  },
  {
   "cell_type": "code",
   "execution_count": 8,
   "metadata": {
    "colab": {
     "base_uri": "https://localhost:8080/",
     "height": 34
    },
    "colab_type": "code",
    "executionInfo": {
     "elapsed": 2790,
     "status": "ok",
     "timestamp": 1593410158210,
     "user": {
      "displayName": "Ankit Kumar Misra",
      "photoUrl": "https://lh3.googleusercontent.com/a-/AOh14GhQDKASUj870pEenRQ8g48kmlHs_dA2HzVoOCaVLw=s64",
      "userId": "01046035975186418003"
     },
     "user_tz": -330
    },
    "id": "d6Omfpj9Pgnm",
    "outputId": "9e3c08b2-5202-4287-aa53-324c8cc3d524"
   },
   "outputs": [
    {
     "data": {
      "text/plain": [
       "(24, 30, 96, 96, 3)"
      ]
     },
     "execution_count": 8,
     "metadata": {
      "tags": []
     },
     "output_type": "execute_result"
    }
   ],
   "source": [
    "data.shape"
   ]
  },
  {
   "cell_type": "markdown",
   "metadata": {
    "colab_type": "text",
    "id": "ghqyaMHDTOEA"
   },
   "source": [
    "The following function generates (anchor, positive, negative) triplets to train the model."
   ]
  },
  {
   "cell_type": "code",
   "execution_count": 9,
   "metadata": {
    "colab": {},
    "colab_type": "code",
    "executionInfo": {
     "elapsed": 1528,
     "status": "ok",
     "timestamp": 1593410164599,
     "user": {
      "displayName": "Ankit Kumar Misra",
      "photoUrl": "https://lh3.googleusercontent.com/a-/AOh14GhQDKASUj870pEenRQ8g48kmlHs_dA2HzVoOCaVLw=s64",
      "userId": "01046035975186418003"
     },
     "user_tz": -330
    },
    "id": "Wxpd_BjGMzV0"
   },
   "outputs": [],
   "source": [
    "def create_triplets(X, A_P, A_N, val_size):\n",
    "    \"\"\"\n",
    "    Returns a NumPy array containing triplets of the form (Anchor, Positive, Negative).\n",
    "\n",
    "    Parameters:\n",
    "    X - NumPy array of images.\n",
    "    A_P - Number of positive pairs of images to be used.\n",
    "    A_N - Number of negative images to be used per positive pair.\n",
    "    val_size - Fraction of triplets to be used for validation.\n",
    "    \"\"\"\n",
    "    train_triplets = []\n",
    "    val_triplets = []\n",
    "\n",
    "    for gesture in range(X.shape[0]):\n",
    "        ppairs = random.sample(list(permutations(range(X.shape[1]), 2)), k=A_P)\n",
    "        \n",
    "        L = []\n",
    "        for i in range(0, X.shape[0]*X.shape[1]):\n",
    "            if i not in range(gesture*X.shape[1], (gesture+1)*X.shape[1]):\n",
    "                L.append(i)\n",
    "        \n",
    "        abs_index = np.random.choice(L, size=(A_N,), replace=False)\n",
    "        n_classes = np.array([[i//X.shape[1], i%X.shape[1]] for i in abs_index])\n",
    "        p_len = len(ppairs)\n",
    "\n",
    "        for pair in ppairs[int(val_size*p_len):]:\n",
    "            anchor = X[gesture, pair[0]]\n",
    "            positive = X[gesture, pair[1]]\n",
    "            for n in range(A_N):\n",
    "                negative = X[n_classes[n][0], n_classes[n][1]]\n",
    "                train_triplets.append([anchor, positive, negative])\n",
    "        \n",
    "        for pair in ppairs[:int(val_size*p_len)]:\n",
    "            anchor = X[gesture, pair[0]]\n",
    "            positive = X[gesture, pair[1]]\n",
    "            for n in range(A_N):\n",
    "                negative = X[n_classes[n][0], n_classes[n][1]]\n",
    "                val_triplets.append([anchor, positive, negative])\n",
    "\n",
    "    train_triplets = np.array(train_triplets)\n",
    "    val_triplets = np.array(val_triplets)\n",
    "\n",
    "    return train_triplets, val_triplets"
   ]
  },
  {
   "cell_type": "code",
   "execution_count": 10,
   "metadata": {
    "colab": {
     "base_uri": "https://localhost:8080/",
     "height": 34
    },
    "colab_type": "code",
    "executionInfo": {
     "elapsed": 3931,
     "status": "ok",
     "timestamp": 1593410167256,
     "user": {
      "displayName": "Ankit Kumar Misra",
      "photoUrl": "https://lh3.googleusercontent.com/a-/AOh14GhQDKASUj870pEenRQ8g48kmlHs_dA2HzVoOCaVLw=s64",
      "userId": "01046035975186418003"
     },
     "user_tz": -330
    },
    "id": "KnOCeh5uSZrQ",
    "outputId": "8db155b1-2941-416e-e336-b95164bad06d"
   },
   "outputs": [
    {
     "data": {
      "text/plain": [
       "((11520, 3, 96, 96, 3), (2304, 3, 96, 96, 3))"
      ]
     },
     "execution_count": 10,
     "metadata": {
      "tags": []
     },
     "output_type": "execute_result"
    }
   ],
   "source": [
    "X_train, X_val = create_triplets(data, 24, 24, 0.2)\n",
    "X_train.shape, X_val.shape"
   ]
  },
  {
   "cell_type": "markdown",
   "metadata": {
    "colab_type": "text",
    "id": "JrNrEF_hTW7Z"
   },
   "source": [
    "Let us check out a triplet, just to ensure everything is alright here."
   ]
  },
  {
   "cell_type": "code",
   "execution_count": 12,
   "metadata": {
    "colab": {
     "base_uri": "https://localhost:8080/",
     "height": 150
    },
    "colab_type": "code",
    "executionInfo": {
     "elapsed": 2719,
     "status": "ok",
     "timestamp": 1593410188154,
     "user": {
      "displayName": "Ankit Kumar Misra",
      "photoUrl": "https://lh3.googleusercontent.com/a-/AOh14GhQDKASUj870pEenRQ8g48kmlHs_dA2HzVoOCaVLw=s64",
      "userId": "01046035975186418003"
     },
     "user_tz": -330
    },
    "id": "8n5HV7Az9dIt",
    "outputId": "50eee930-a3bb-4fe3-cac9-500a2041241c"
   },
   "outputs": [
    {
     "data": {
      "image/png": "[encoded data removed]",
      "text/plain": [
       "<Figure size 432x288 with 3 Axes>"
      ]
     },
     "metadata": {
      "needs_background": "light",
      "tags": []
     },
     "output_type": "display_data"
    }
   ],
   "source": [
    "inx = 4242\n",
    "img = X_train[inx].copy()\n",
    "triplet = [img[0], img[1], img[2]]\n",
    "\n",
    "fig, (ax1, ax2, ax3) = plt.subplots(1,3)\n",
    "ax1.matshow(triplet[0])\n",
    "ax2.matshow(triplet[1])\n",
    "ax3.matshow(triplet[2])\n",
    "plt.show()"
   ]
  },
  {
   "cell_type": "markdown",
   "metadata": {
    "colab_type": "text",
    "id": "Y3s5vcF3ThFq"
   },
   "source": [
    "The following function builds and returns the base CNN model, built on top of the pretrained VGG16 convolutional base."
   ]
  },
  {
   "cell_type": "code",
   "execution_count": 13,
   "metadata": {
    "colab": {},
    "colab_type": "code",
    "executionInfo": {
     "elapsed": 1204,
     "status": "ok",
     "timestamp": 1593410200903,
     "user": {
      "displayName": "Ankit Kumar Misra",
      "photoUrl": "https://lh3.googleusercontent.com/a-/AOh14GhQDKASUj870pEenRQ8g48kmlHs_dA2HzVoOCaVLw=s64",
      "userId": "01046035975186418003"
     },
     "user_tz": -330
    },
    "id": "Cv3jtw8z5W3I"
   },
   "outputs": [],
   "source": [
    "from keras.applications import VGG16\n",
    "\n",
    "def base_CNN(input_shape):\n",
    "    \"\"\"\n",
    "    Returns the base CNN that converts images to encodings.\n",
    "\n",
    "    Parameters:\n",
    "    input_shape - Input shape for the CNN.\n",
    "    \"\"\"\n",
    "    conv_base = VGG16(weights='imagenet', include_top=False, input_shape=input_shape)\n",
    "    conv_base.trainable = False\n",
    "    model = Sequential()\n",
    "    model.add(conv_base)\n",
    "    model.add(Flatten())\n",
    "    model.add(Dense(128, activation='relu'))\n",
    "    model.add(Dense(64))\n",
    "\n",
    "    return model"
   ]
  },
  {
   "cell_type": "markdown",
   "metadata": {
    "colab_type": "text",
    "id": "XbyQoVAMTqng"
   },
   "source": [
    "The following function returns the value of triplet loss for a given set of triplets."
   ]
  },
  {
   "cell_type": "code",
   "execution_count": 14,
   "metadata": {
    "colab": {},
    "colab_type": "code",
    "executionInfo": {
     "elapsed": 1660,
     "status": "ok",
     "timestamp": 1593410260330,
     "user": {
      "displayName": "Ankit Kumar Misra",
      "photoUrl": "https://lh3.googleusercontent.com/a-/AOh14GhQDKASUj870pEenRQ8g48kmlHs_dA2HzVoOCaVLw=s64",
      "userId": "01046035975186418003"
     },
     "user_tz": -330
    },
    "id": "uoUGCuMD94sq"
   },
   "outputs": [],
   "source": [
    "def triplet_loss(y_true, y_pred, alpha = 0.4):\n",
    "    \"\"\"\n",
    "    Returns the value of triplet loss\n",
    "\n",
    "    Parameters:\n",
    "    y_true - True labels, required when defining a loss function in Keras, but unused in this function.\n",
    "    y_pred - Python list containing three parts:\n",
    "                anchor - encodings for the anchor images\n",
    "                positive - encodings for the positive images\n",
    "                negative - encodings for the negative images\n",
    "    alpha - A hyperparameter, higher values of which try to make the model give more distant encodings for different gesture classes.\n",
    "    \"\"\"\n",
    "    \n",
    "    total_length = y_pred.shape.as_list()[-1]\n",
    "    \n",
    "    anchor = y_pred[:,0:int(total_length*1/3)]\n",
    "    positive = y_pred[:,int(total_length*1/3):int(total_length*2/3)]\n",
    "    negative = y_pred[:,int(total_length*2/3):int(total_length*3/3)]\n",
    "\n",
    "    pos_dist = K.sum(K.square(anchor-positive), axis=1)\n",
    "    neg_dist = K.sum(K.square(anchor-negative), axis=1)\n",
    "\n",
    "    loss = K.maximum(pos_dist - neg_dist + alpha, 0.0)\n",
    " \n",
    "    return loss"
   ]
  },
  {
   "cell_type": "code",
   "execution_count": 15,
   "metadata": {
    "colab": {},
    "colab_type": "code",
    "executionInfo": {
     "elapsed": 1055,
     "status": "ok",
     "timestamp": 1593410260333,
     "user": {
      "displayName": "Ankit Kumar Misra",
      "photoUrl": "https://lh3.googleusercontent.com/a-/AOh14GhQDKASUj870pEenRQ8g48kmlHs_dA2HzVoOCaVLw=s64",
      "userId": "01046035975186418003"
     },
     "user_tz": -330
    },
    "id": "KkpwKHQxElRp"
   },
   "outputs": [],
   "source": [
    "input_shape = (96, 96, 3)"
   ]
  },
  {
   "cell_type": "markdown",
   "metadata": {
    "colab_type": "text",
    "id": "jI7U1ESpT2Gh"
   },
   "source": [
    "We now build up the model, sharing the CNN along with its weights for all three input images in the triplet, and we output an array obtained by concatenating all three encodings. The model is compiled, and a checkpoint callback is initialized to save the model between epochs."
   ]
  },
  {
   "cell_type": "code",
   "execution_count": 35,
   "metadata": {
    "colab": {},
    "colab_type": "code",
    "executionInfo": {
     "elapsed": 3028,
     "status": "ok",
     "timestamp": 1593411076477,
     "user": {
      "displayName": "Ankit Kumar Misra",
      "photoUrl": "https://lh3.googleusercontent.com/a-/AOh14GhQDKASUj870pEenRQ8g48kmlHs_dA2HzVoOCaVLw=s64",
      "userId": "01046035975186418003"
     },
     "user_tz": -330
    },
    "id": "3aRJ_cq-Evrx"
   },
   "outputs": [],
   "source": [
    "shared_cnn = base_CNN(input_shape)\n",
    "\n",
    "anchor_input = Input(input_shape, name='anchor_input')\n",
    "positive_input = Input(input_shape, name='positive_input')\n",
    "negative_input = Input(input_shape, name='negative_input')\n",
    "\n",
    "encoded_anchor = shared_cnn(anchor_input)\n",
    "encoded_positive = shared_cnn(positive_input)\n",
    "encoded_negative = shared_cnn(negative_input)\n",
    "\n",
    "checkpoint = ModelCheckpoint('final_weights.h5', verbose=1, save_best_only=True)\n",
    "\n",
    "merged_vector = concatenate([encoded_anchor, encoded_positive, encoded_negative], axis=-1, name='merged_layer')\n",
    "\n",
    "model = Model(inputs=[anchor_input, positive_input, negative_input], outputs=merged_vector)\n",
    "\n",
    "optimizer = Adam(lr=5e-4)\n",
    "model.compile(loss=triplet_loss, optimizer=optimizer)"
   ]
  },
  {
   "cell_type": "code",
   "execution_count": 36,
   "metadata": {
    "colab": {
     "base_uri": "https://localhost:8080/",
     "height": 386
    },
    "colab_type": "code",
    "executionInfo": {
     "elapsed": 765,
     "status": "ok",
     "timestamp": 1593411078020,
     "user": {
      "displayName": "Ankit Kumar Misra",
      "photoUrl": "https://lh3.googleusercontent.com/a-/AOh14GhQDKASUj870pEenRQ8g48kmlHs_dA2HzVoOCaVLw=s64",
      "userId": "01046035975186418003"
     },
     "user_tz": -330
    },
    "id": "6WFrtnlFLIuW",
    "outputId": "78083e7a-fa99-4ebc-8c6c-3bd3dbe55c58"
   },
   "outputs": [
    {
     "name": "stdout",
     "output_type": "stream",
     "text": [
      "Model: \"model_4\"\n",
      "__________________________________________________________________________________________________\n",
      "Layer (type)                    Output Shape         Param #     Connected to                     \n",
      "==================================================================================================\n",
      "anchor_input (InputLayer)       (None, 96, 96, 3)    0                                            \n",
      "__________________________________________________________________________________________________\n",
      "positive_input (InputLayer)     (None, 96, 96, 3)    0                                            \n",
      "__________________________________________________________________________________________________\n",
      "negative_input (InputLayer)     (None, 96, 96, 3)    0                                            \n",
      "__________________________________________________________________________________________________\n",
      "sequential_2 (Sequential)       (None, 64)           15312896    anchor_input[0][0]               \n",
      "                                                                 positive_input[0][0]             \n",
      "                                                                 negative_input[0][0]             \n",
      "__________________________________________________________________________________________________\n",
      "merged_layer (Concatenate)      (None, 192)          0           sequential_2[1][0]               \n",
      "                                                                 sequential_2[2][0]               \n",
      "                                                                 sequential_2[3][0]               \n",
      "==================================================================================================\n",
      "Total params: 15,312,896\n",
      "Trainable params: 598,208\n",
      "Non-trainable params: 14,714,688\n",
      "__________________________________________________________________________________________________\n"
     ]
    }
   ],
   "source": [
    "model.summary()"
   ]
  },
  {
   "cell_type": "markdown",
   "metadata": {
    "colab_type": "text",
    "id": "R4fL-YnfUaiJ"
   },
   "source": [
    "We now set up training and validation anchors, positives, and negatives, and then we train the model!"
   ]
  },
  {
   "cell_type": "code",
   "execution_count": 37,
   "metadata": {
    "colab": {
     "base_uri": "https://localhost:8080/",
     "height": 34
    },
    "colab_type": "code",
    "executionInfo": {
     "elapsed": 4272,
     "status": "ok",
     "timestamp": 1593411089302,
     "user": {
      "displayName": "Ankit Kumar Misra",
      "photoUrl": "https://lh3.googleusercontent.com/a-/AOh14GhQDKASUj870pEenRQ8g48kmlHs_dA2HzVoOCaVLw=s64",
      "userId": "01046035975186418003"
     },
     "user_tz": -330
    },
    "id": "N9IKxeykLKWH",
    "outputId": "67451064-b990-4e66-e4b8-02101de4a739"
   },
   "outputs": [
    {
     "name": "stdout",
     "output_type": "stream",
     "text": [
      "(11520, 96, 96, 3)\n"
     ]
    }
   ],
   "source": [
    "np.random.shuffle(X_train)\n",
    "np.random.shuffle(X_val)\n",
    "\n",
    "Anchor = X_train[:,0]\n",
    "Positive = X_train[:,1]\n",
    "Negative = X_train[:,2]\n",
    "Anchor_val = X_val[:,0]\n",
    "Positive_val = X_val[:,1]\n",
    "Negative_val = X_val[:,2]\n",
    "\n",
    "print(Anchor.shape)\n",
    "Y_dummy = np.empty((Anchor.shape[0], 300))\n",
    "Y_dummy2 = np.empty((Anchor_val.shape[0], 1))"
   ]
  },
  {
   "cell_type": "code",
   "execution_count": 38,
   "metadata": {
    "colab": {
     "base_uri": "https://localhost:8080/",
     "height": 386
    },
    "colab_type": "code",
    "executionInfo": {
     "elapsed": 117430,
     "status": "ok",
     "timestamp": 1593411207252,
     "user": {
      "displayName": "Ankit Kumar Misra",
      "photoUrl": "https://lh3.googleusercontent.com/a-/AOh14GhQDKASUj870pEenRQ8g48kmlHs_dA2HzVoOCaVLw=s64",
      "userId": "01046035975186418003"
     },
     "user_tz": -330
    },
    "id": "W8TrhcnCOKU4",
    "outputId": "cd5acd90-7617-4013-d075-0a498e956512"
   },
   "outputs": [
    {
     "name": "stdout",
     "output_type": "stream",
     "text": [
      "Train on 11520 samples, validate on 2304 samples\n",
      "Epoch 1/5\n",
      "11520/11520 [==============================] - 23s 2ms/step - loss: 0.0304 - val_loss: 0.0222\n",
      "\n",
      "Epoch 00001: val_loss improved from inf to 0.02221, saving model to final_weights.h5\n",
      "Epoch 2/5\n",
      "11520/11520 [==============================] - 23s 2ms/step - loss: 0.0032 - val_loss: 0.0182\n",
      "\n",
      "Epoch 00002: val_loss improved from 0.02221 to 0.01820, saving model to final_weights.h5\n",
      "Epoch 3/5\n",
      "11520/11520 [==============================] - 23s 2ms/step - loss: 0.0037 - val_loss: 0.0200\n",
      "\n",
      "Epoch 00003: val_loss did not improve from 0.01820\n",
      "Epoch 4/5\n",
      "11520/11520 [==============================] - 23s 2ms/step - loss: 0.0029 - val_loss: 0.0155\n",
      "\n",
      "Epoch 00004: val_loss improved from 0.01820 to 0.01549, saving model to final_weights.h5\n",
      "Epoch 5/5\n",
      "11520/11520 [==============================] - 23s 2ms/step - loss: 0.0041 - val_loss: 0.0840\n",
      "\n",
      "Epoch 00005: val_loss did not improve from 0.01549\n"
     ]
    },
    {
     "data": {
      "text/plain": [
       "<keras.callbacks.callbacks.History at 0x7fcbb9609f28>"
      ]
     },
     "execution_count": 38,
     "metadata": {
      "tags": []
     },
     "output_type": "execute_result"
    }
   ],
   "source": [
    "model.fit([Anchor,Positive,Negative],\n",
    "          y=Y_dummy,\n",
    "          validation_data=([Anchor_val,Positive_val,Negative_val], Y_dummy2),\n",
    "          batch_size=128,\n",
    "          epochs=5,\n",
    "          callbacks=[checkpoint])"
   ]
  },
  {
   "cell_type": "markdown",
   "metadata": {
    "colab_type": "text",
    "id": "9abaL0lOUnev"
   },
   "source": [
    "We now set all layers as trainable, for fine-tuning, compile the model again, and train again."
   ]
  },
  {
   "cell_type": "code",
   "execution_count": 39,
   "metadata": {
    "colab": {
     "base_uri": "https://localhost:8080/",
     "height": 386
    },
    "colab_type": "code",
    "executionInfo": {
     "elapsed": 1298,
     "status": "ok",
     "timestamp": 1593411212749,
     "user": {
      "displayName": "Ankit Kumar Misra",
      "photoUrl": "https://lh3.googleusercontent.com/a-/AOh14GhQDKASUj870pEenRQ8g48kmlHs_dA2HzVoOCaVLw=s64",
      "userId": "01046035975186418003"
     },
     "user_tz": -330
    },
    "id": "jrvOluwr6nb_",
    "outputId": "9982c6e2-3ad1-4256-abc9-41483d45fab1"
   },
   "outputs": [
    {
     "name": "stdout",
     "output_type": "stream",
     "text": [
      "Model: \"model_5\"\n",
      "__________________________________________________________________________________________________\n",
      "Layer (type)                    Output Shape         Param #     Connected to                     \n",
      "==================================================================================================\n",
      "anchor_input (InputLayer)       (None, 96, 96, 3)    0                                            \n",
      "__________________________________________________________________________________________________\n",
      "positive_input (InputLayer)     (None, 96, 96, 3)    0                                            \n",
      "__________________________________________________________________________________________________\n",
      "negative_input (InputLayer)     (None, 96, 96, 3)    0                                            \n",
      "__________________________________________________________________________________________________\n",
      "sequential_2 (Sequential)       (None, 64)           15312896    anchor_input[0][0]               \n",
      "                                                                 positive_input[0][0]             \n",
      "                                                                 negative_input[0][0]             \n",
      "__________________________________________________________________________________________________\n",
      "merged_layer (Concatenate)      (None, 192)          0           sequential_2[1][0]               \n",
      "                                                                 sequential_2[2][0]               \n",
      "                                                                 sequential_2[3][0]               \n",
      "==================================================================================================\n",
      "Total params: 15,312,896\n",
      "Trainable params: 15,312,896\n",
      "Non-trainable params: 0\n",
      "__________________________________________________________________________________________________\n"
     ]
    }
   ],
   "source": [
    "model.load_weights('final_weights.h5')\n",
    "\n",
    "for L in shared_cnn.layers:\n",
    "    L.trainable = True\n",
    "model = Model(inputs=[anchor_input,positive_input, negative_input], outputs=merged_vector)\n",
    "\n",
    "optimizer = Adam(lr=1e-4)\n",
    "model.compile(loss=triplet_loss, optimizer=optimizer)\n",
    "model.summary()"
   ]
  },
  {
   "cell_type": "code",
   "execution_count": 40,
   "metadata": {
    "colab": {
     "base_uri": "https://localhost:8080/",
     "height": 386
    },
    "colab_type": "code",
    "executionInfo": {
     "elapsed": 265696,
     "status": "ok",
     "timestamp": 1593411480360,
     "user": {
      "displayName": "Ankit Kumar Misra",
      "photoUrl": "https://lh3.googleusercontent.com/a-/AOh14GhQDKASUj870pEenRQ8g48kmlHs_dA2HzVoOCaVLw=s64",
      "userId": "01046035975186418003"
     },
     "user_tz": -330
    },
    "id": "MRr929ZB6uOB",
    "outputId": "266be2f4-238f-4b03-e97b-a1a128fe1584"
   },
   "outputs": [
    {
     "name": "stdout",
     "output_type": "stream",
     "text": [
      "Train on 11520 samples, validate on 2304 samples\n",
      "Epoch 1/5\n",
      "11520/11520 [==============================] - 53s 5ms/step - loss: 0.0225 - val_loss: 0.0383\n",
      "\n",
      "Epoch 00001: val_loss improved from inf to 0.03834, saving model to final_finetuned_weights.h5\n",
      "Epoch 2/5\n",
      "11520/11520 [==============================] - 52s 5ms/step - loss: 0.0059 - val_loss: 0.0028\n",
      "\n",
      "Epoch 00002: val_loss improved from 0.03834 to 0.00281, saving model to final_finetuned_weights.h5\n",
      "Epoch 3/5\n",
      "11520/11520 [==============================] - 52s 5ms/step - loss: 0.0046 - val_loss: 0.0120\n",
      "\n",
      "Epoch 00003: val_loss did not improve from 0.00281\n",
      "Epoch 4/5\n",
      "11520/11520 [==============================] - 52s 5ms/step - loss: 0.0045 - val_loss: 0.0050\n",
      "\n",
      "Epoch 00004: val_loss did not improve from 0.00281\n",
      "Epoch 5/5\n",
      "11520/11520 [==============================] - 52s 5ms/step - loss: 0.0038 - val_loss: 0.0118\n",
      "\n",
      "Epoch 00005: val_loss did not improve from 0.00281\n"
     ]
    },
    {
     "data": {
      "text/plain": [
       "<keras.callbacks.callbacks.History at 0x7fcbb91489e8>"
      ]
     },
     "execution_count": 40,
     "metadata": {
      "tags": []
     },
     "output_type": "execute_result"
    }
   ],
   "source": [
    "checkpoint2 = ModelCheckpoint('final_finetuned_weights.h5', verbose=1, save_best_only=True)\n",
    "model.fit([Anchor,Positive,Negative],\n",
    "          y=Y_dummy,\n",
    "          validation_data=([Anchor_val, Positive_val, Negative_val], Y_dummy2),\n",
    "          batch_size=128,\n",
    "          epochs=5,\n",
    "          callbacks=[checkpoint2])"
   ]
  },
  {
   "cell_type": "code",
   "execution_count": 41,
   "metadata": {
    "colab": {},
    "colab_type": "code",
    "executionInfo": {
     "elapsed": 1297,
     "status": "ok",
     "timestamp": 1593411484495,
     "user": {
      "displayName": "Ankit Kumar Misra",
      "photoUrl": "https://lh3.googleusercontent.com/a-/AOh14GhQDKASUj870pEenRQ8g48kmlHs_dA2HzVoOCaVLw=s64",
      "userId": "01046035975186418003"
     },
     "user_tz": -330
    },
    "id": "s7sOjie_6zUz"
   },
   "outputs": [],
   "source": [
    "final_model = Model(inputs=anchor_input, outputs=encoded_anchor)\n",
    "\n",
    "final_model.load_weights('final_finetuned_weights.h5')"
   ]
  },
  {
   "cell_type": "markdown",
   "metadata": {
    "colab_type": "text",
    "id": "wYWXQIFXUxEh"
   },
   "source": [
    "We now have our final model, trained and ready to test!\n",
    "\n",
    "The following three functions are required to test the model."
   ]
  },
  {
   "cell_type": "code",
   "execution_count": 33,
   "metadata": {
    "colab": {},
    "colab_type": "code",
    "executionInfo": {
     "elapsed": 1439,
     "status": "ok",
     "timestamp": 1593410947320,
     "user": {
      "displayName": "Ankit Kumar Misra",
      "photoUrl": "https://lh3.googleusercontent.com/a-/AOh14GhQDKASUj870pEenRQ8g48kmlHs_dA2HzVoOCaVLw=s64",
      "userId": "01046035975186418003"
     },
     "user_tz": -330
    },
    "id": "gbQOEWT99H65"
   },
   "outputs": [],
   "source": [
    "def img_to_encoding(image_path, model):\n",
    "    \"\"\"\n",
    "    Returns encoding for a given image.\n",
    "\n",
    "    Parameters:\n",
    "    image_path - Path to the image to be encoded.\n",
    "    model - The model used for classification.\n",
    "    \"\"\"\n",
    "    img1 = cv2.imread(image_path)\n",
    "    img1 = cv2.cvtColor(img1, cv2.COLOR_BGR2RGB)\n",
    "    img1 = cv2.resize(img1, (96,96))\n",
    "    img = img1/255.\n",
    "    encoding = model.predict_on_batch(np.array([img]))\n",
    "    return encoding"
   ]
  },
  {
   "cell_type": "code",
   "execution_count": 24,
   "metadata": {
    "colab": {},
    "colab_type": "code",
    "executionInfo": {
     "elapsed": 1292,
     "status": "ok",
     "timestamp": 1593410756367,
     "user": {
      "displayName": "Ankit Kumar Misra",
      "photoUrl": "https://lh3.googleusercontent.com/a-/AOh14GhQDKASUj870pEenRQ8g48kmlHs_dA2HzVoOCaVLw=s64",
      "userId": "01046035975186418003"
     },
     "user_tz": -330
    },
    "id": "TnlA6zk_65Su"
   },
   "outputs": [],
   "source": [
    "def finder(image_path, database, model):\n",
    "    \"\"\"\n",
    "    Returns the gesture class closest to the given image (and the corresponding distance), using L2 norm of difference between encodings to measure distance.\n",
    "    \n",
    "    Parameters:\n",
    "    image_path - Path to the image to be classified.\n",
    "    database - A dictionary containing the encodings of sample images from all gesture classes.\n",
    "    model - The model used for classification.\n",
    "    \"\"\"\n",
    "    encoding = img_to_encoding(image_path, model)\n",
    "\n",
    "    min_dist = 100\n",
    "\n",
    "    for (name, db_enc) in database.items():\n",
    "        dist = np.linalg.norm(db_enc - encoding)\n",
    "        if dist < min_dist:\n",
    "            min_dist = dist\n",
    "            identity = name\n",
    "\n",
    "    return min_dist, identity"
   ]
  },
  {
   "cell_type": "code",
   "execution_count": 25,
   "metadata": {
    "colab": {},
    "colab_type": "code",
    "executionInfo": {
     "elapsed": 1161,
     "status": "ok",
     "timestamp": 1593410761561,
     "user": {
      "displayName": "Ankit Kumar Misra",
      "photoUrl": "https://lh3.googleusercontent.com/a-/AOh14GhQDKASUj870pEenRQ8g48kmlHs_dA2HzVoOCaVLw=s64",
      "userId": "01046035975186418003"
     },
     "user_tz": -330
    },
    "id": "u4ohRCgK68mY"
   },
   "outputs": [],
   "source": [
    "def test_accuracy(path, database, model):\n",
    "    \"\"\"\n",
    "    Returns the accuracy, correct classifications, and total images classified while testing a trained model on a dataset.\n",
    "\n",
    "    Parameters:\n",
    "    path - Path to the directory containing the test dataset.\n",
    "    database - A dictionary containing the encodings of sample images from all gesture classes.\n",
    "    model - The model used for classification.\n",
    "    \"\"\"\n",
    "    correct = 0\n",
    "    total = 0\n",
    "    for gesture in os.listdir(path):\n",
    "        subpath = os.path.join(path, gesture)\n",
    "        for image in os.listdir(subpath):\n",
    "            total += 1\n",
    "            image_path = os.path.join(subpath, image)\n",
    "            dist, identity = finder(image_path, database, model)\n",
    "            if(identity == gesture):\n",
    "                correct += 1\n",
    "\n",
    "    return (correct/total)*100, correct, total"
   ]
  },
  {
   "cell_type": "markdown",
   "metadata": {
    "colab_type": "text",
    "id": "6Vmqm5-HVIDN"
   },
   "source": [
    "I now unzip my own hand gestures dataset, which has 15 classes, each with 25 images."
   ]
  },
  {
   "cell_type": "code",
   "execution_count": null,
   "metadata": {
    "colab": {},
    "colab_type": "code",
    "id": "g2BOtsXdYLrD"
   },
   "outputs": [],
   "source": [
    "!unzip 'gdrive/My Drive/gestures_dataset_2.zip' -d '.'"
   ]
  },
  {
   "cell_type": "code",
   "execution_count": 27,
   "metadata": {
    "colab": {},
    "colab_type": "code",
    "executionInfo": {
     "elapsed": 1035,
     "status": "ok",
     "timestamp": 1593410782790,
     "user": {
      "displayName": "Ankit Kumar Misra",
      "photoUrl": "https://lh3.googleusercontent.com/a-/AOh14GhQDKASUj870pEenRQ8g48kmlHs_dA2HzVoOCaVLw=s64",
      "userId": "01046035975186418003"
     },
     "user_tz": -330
    },
    "id": "ukKtj9L10PFN"
   },
   "outputs": [],
   "source": [
    "os.mkdir('refined_data')"
   ]
  },
  {
   "cell_type": "markdown",
   "metadata": {
    "colab_type": "text",
    "id": "Ea4CFvulVPrD"
   },
   "source": [
    "The following code organizes the data."
   ]
  },
  {
   "cell_type": "code",
   "execution_count": 30,
   "metadata": {
    "colab": {},
    "colab_type": "code",
    "executionInfo": {
     "elapsed": 2259,
     "status": "ok",
     "timestamp": 1593410916874,
     "user": {
      "displayName": "Ankit Kumar Misra",
      "photoUrl": "https://lh3.googleusercontent.com/a-/AOh14GhQDKASUj870pEenRQ8g48kmlHs_dA2HzVoOCaVLw=s64",
      "userId": "01046035975186418003"
     },
     "user_tz": -330
    },
    "id": "ZecWUcd8ohs4"
   },
   "outputs": [],
   "source": [
    "for i in range(1,16):\n",
    "    os.mkdir(f'refined_data/{i-1}')\n",
    "    for j, img in enumerate(os.listdir(f'gestures_dataset_2/{i}/')):\n",
    "        img = cv2.imread(os.path.join(f'gestures_dataset_2/{i}/', img))\n",
    "        img = cv2.flip(img, 1)\n",
    "        cv2.imwrite(f'refined_data/{i-1}/{j}.jpg', img)"
   ]
  },
  {
   "cell_type": "markdown",
   "metadata": {
    "colab_type": "text",
    "id": "gpstRCaWVY73"
   },
   "source": [
    "Let us visualize an image from this dataset."
   ]
  },
  {
   "cell_type": "code",
   "execution_count": 31,
   "metadata": {
    "colab": {
     "base_uri": "https://localhost:8080/",
     "height": 286
    },
    "colab_type": "code",
    "executionInfo": {
     "elapsed": 1757,
     "status": "ok",
     "timestamp": 1593410924285,
     "user": {
      "displayName": "Ankit Kumar Misra",
      "photoUrl": "https://lh3.googleusercontent.com/a-/AOh14GhQDKASUj870pEenRQ8g48kmlHs_dA2HzVoOCaVLw=s64",
      "userId": "01046035975186418003"
     },
     "user_tz": -330
    },
    "id": "s0B9gfRuzs09",
    "outputId": "6eb4a83f-fecb-47fa-fd4f-b88161c54999"
   },
   "outputs": [
    {
     "data": {
      "text/plain": [
       "<matplotlib.image.AxesImage at 0x7fcbb9667cf8>"
      ]
     },
     "execution_count": 31,
     "metadata": {
      "tags": []
     },
     "output_type": "execute_result"
    },
    {
     "data": {
      "image/png": "[encoded data removed]",
      "text/plain": [
       "<Figure size 432x288 with 1 Axes>"
      ]
     },
     "metadata": {
      "needs_background": "light",
      "tags": []
     },
     "output_type": "display_data"
    }
   ],
   "source": [
    "img = cv2.imread('refined_data/8/20.jpg')\n",
    "img = cv2.cvtColor(img, cv2.COLOR_BGR2RGB)\n",
    "plt.imshow(img)"
   ]
  },
  {
   "cell_type": "markdown",
   "metadata": {
    "colab_type": "text",
    "id": "HEkzDZ2RVdOX"
   },
   "source": [
    "The following code tests the model on this hand gestures dataset."
   ]
  },
  {
   "cell_type": "code",
   "execution_count": 42,
   "metadata": {
    "colab": {
     "base_uri": "https://localhost:8080/",
     "height": 34
    },
    "colab_type": "code",
    "executionInfo": {
     "elapsed": 3006,
     "status": "ok",
     "timestamp": 1593411495197,
     "user": {
      "displayName": "Ankit Kumar Misra",
      "photoUrl": "https://lh3.googleusercontent.com/a-/AOh14GhQDKASUj870pEenRQ8g48kmlHs_dA2HzVoOCaVLw=s64",
      "userId": "01046035975186418003"
     },
     "user_tz": -330
    },
    "id": "vUor6uJF6_tb",
    "outputId": "6b2904ac-1f86-4edb-c09e-7822bd63f4c6"
   },
   "outputs": [
    {
     "name": "stdout",
     "output_type": "stream",
     "text": [
      "(89.86666666666666, 337, 375)\n"
     ]
    }
   ],
   "source": [
    "database = {}\n",
    "\n",
    "for gesture in os.listdir('refined_data'):\n",
    "    image1 = os.listdir(os.path.join('refined_data', gesture))[3]\n",
    "    path = os.path.join('refined_data', gesture, image1)\n",
    "    database[gesture] = img_to_encoding(path, final_model)\n",
    "\n",
    "print(test_accuracy('refined_data', database, final_model))"
   ]
  },
  {
   "cell_type": "markdown",
   "metadata": {
    "colab_type": "text",
    "id": "ocHAg6AUVh7k"
   },
   "source": [
    "Well, with a good accuracy, we can now save the model! The architecture is stored in a `.json` file, and the weights in a `.h5` file."
   ]
  },
  {
   "cell_type": "code",
   "execution_count": 43,
   "metadata": {
    "colab": {},
    "colab_type": "code",
    "executionInfo": {
     "elapsed": 3050,
     "status": "ok",
     "timestamp": 1593411511295,
     "user": {
      "displayName": "Ankit Kumar Misra",
      "photoUrl": "https://lh3.googleusercontent.com/a-/AOh14GhQDKASUj870pEenRQ8g48kmlHs_dA2HzVoOCaVLw=s64",
      "userId": "01046035975186418003"
     },
     "user_tz": -330
    },
    "id": "igUoXxcTUUXD"
   },
   "outputs": [],
   "source": [
    "final_model.save_weights('gdrive/My Drive/final_gestures_weights.h5')\n",
    "\n",
    "model_json = final_model.to_json()\n",
    "json_file = open('gdrive/My Drive/final_gestures_model.json', 'w')\n",
    "json_file.write(model_json)\n",
    "json_file.close()"
   ]
  }
 ],
 "metadata": {
  "accelerator": "GPU",
  "colab": {
   "collapsed_sections": [],
   "name": "gesture_classification_siamese_network.ipynb",
   "provenance": []
  },
  "kernelspec": {
   "display_name": "Python 3",
   "language": "python",
   "name": "python3"
  },
  "language_info": {
   "codemirror_mode": {
    "name": "ipython",
    "version": 3
   },
   "file_extension": ".py",
   "mimetype": "text/x-python",
   "name": "python",
   "nbconvert_exporter": "python",
   "pygments_lexer": "ipython3",
   "version": "3.6.9"
  }
 },
 "nbformat": 4,
 "nbformat_minor": 1
}
